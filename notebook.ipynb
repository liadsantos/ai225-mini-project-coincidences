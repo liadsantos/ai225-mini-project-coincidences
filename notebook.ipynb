{
 "cells": [
  {
   "attachments": {},
   "cell_type": "markdown",
   "metadata": {},
   "source": [
    "# Exploring Coincidences with a Cross-Verified database of Notable people\n",
    "\n",
    "***Student:*** Lais Isabelle ALVES DOS SANTOS"
   ]
  },
  {
   "attachments": {},
   "cell_type": "markdown",
   "metadata": {},
   "source": [
    "## Libraries"
   ]
  },
  {
   "cell_type": "code",
   "execution_count": 1,
   "metadata": {},
   "outputs": [],
   "source": [
    "import pandas as pd"
   ]
  },
  {
   "attachments": {},
   "cell_type": "markdown",
   "metadata": {},
   "source": [
    "## Data loading and pre-processing"
   ]
  },
  {
   "cell_type": "code",
   "execution_count": 27,
   "metadata": {},
   "outputs": [],
   "source": [
    "db = pd.read_csv('../database/cross-verified-database.csv', \n",
    "                 encoding='latin-1',\n",
    "                 delimiter=',',\n",
    "                 usecols=['name', 'birth', 'death', 'level1_main_occ', 'gender', 'bplo1', 'dplo1', 'bpla1', 'dpla1']\n",
    "                 )"
   ]
  },
  {
   "cell_type": "code",
   "execution_count": 33,
   "metadata": {},
   "outputs": [],
   "source": [
    "# Replace some names to clarify the use of the dataset\n",
    "db.rename(columns={\"level1_main_occ\": \"domain\", \"bplo1\": \"birth_longitude\", \"dplo1\": \"death_longitude\", \"bpla1\": \"birth_latitude\", \"dpla1\": \"death_latitude\"}, inplace=True)\n",
    "\n",
    "# Leave only notable people from 'Discovery/Science'\n",
    "db = db[db.domain == 'Discovery/Science']"
   ]
  },
  {
   "cell_type": "code",
   "execution_count": 17,
   "metadata": {},
   "outputs": [],
   "source": [
    "def print_full(x):\n",
    "    pd.set_option('display.max_rows', len(x))\n",
    "    print(x)\n",
    "    pd.reset_option('display.max_rows')"
   ]
  },
  {
   "cell_type": "code",
   "execution_count": 34,
   "metadata": {},
   "outputs": [
    {
     "data": {
      "text/html": [
       "<div>\n",
       "<style scoped>\n",
       "    .dataframe tbody tr th:only-of-type {\n",
       "        vertical-align: middle;\n",
       "    }\n",
       "\n",
       "    .dataframe tbody tr th {\n",
       "        vertical-align: top;\n",
       "    }\n",
       "\n",
       "    .dataframe thead th {\n",
       "        text-align: right;\n",
       "    }\n",
       "</style>\n",
       "<table border=\"1\" class=\"dataframe\">\n",
       "  <thead>\n",
       "    <tr style=\"text-align: right;\">\n",
       "      <th></th>\n",
       "      <th>birth</th>\n",
       "      <th>death</th>\n",
       "      <th>gender</th>\n",
       "      <th>domain</th>\n",
       "      <th>name</th>\n",
       "      <th>birth_longitude</th>\n",
       "      <th>death_longitude</th>\n",
       "      <th>birth_latitude</th>\n",
       "      <th>death_latitude</th>\n",
       "    </tr>\n",
       "  </thead>\n",
       "  <tbody>\n",
       "    <tr>\n",
       "      <th>6</th>\n",
       "      <td>1818.0</td>\n",
       "      <td>1894.0</td>\n",
       "      <td>Male</td>\n",
       "      <td>Discovery/Science</td>\n",
       "      <td>Joseph_Dienger</td>\n",
       "      <td>7.667770</td>\n",
       "      <td>8.400000</td>\n",
       "      <td>47.957283</td>\n",
       "      <td>49.016666</td>\n",
       "    </tr>\n",
       "    <tr>\n",
       "      <th>7</th>\n",
       "      <td>1907.0</td>\n",
       "      <td>1980.0</td>\n",
       "      <td>Female</td>\n",
       "      <td>Discovery/Science</td>\n",
       "      <td>Sylvia_Bayr-Klimpfinger</td>\n",
       "      <td>16.372499</td>\n",
       "      <td>16.372499</td>\n",
       "      <td>48.208332</td>\n",
       "      <td>48.208332</td>\n",
       "    </tr>\n",
       "    <tr>\n",
       "      <th>9</th>\n",
       "      <td>1891.0</td>\n",
       "      <td>1962.0</td>\n",
       "      <td>Male</td>\n",
       "      <td>Discovery/Science</td>\n",
       "      <td>Franz_Zimmermann_(Philologe)</td>\n",
       "      <td>13.835800</td>\n",
       "      <td>12.375000</td>\n",
       "      <td>51.194901</td>\n",
       "      <td>51.340000</td>\n",
       "    </tr>\n",
       "    <tr>\n",
       "      <th>17</th>\n",
       "      <td>1935.0</td>\n",
       "      <td>2009.0</td>\n",
       "      <td>Male</td>\n",
       "      <td>Discovery/Science</td>\n",
       "      <td>Otto_Arndt_Liebisch</td>\n",
       "      <td>12.375000</td>\n",
       "      <td>9.866694</td>\n",
       "      <td>51.340000</td>\n",
       "      <td>52.499973</td>\n",
       "    </tr>\n",
       "    <tr>\n",
       "      <th>28</th>\n",
       "      <td>1929.0</td>\n",
       "      <td>2003.0</td>\n",
       "      <td>Male</td>\n",
       "      <td>Discovery/Science</td>\n",
       "      <td>Hans_ElsÃ¤sser</td>\n",
       "      <td>10.093611</td>\n",
       "      <td>8.710000</td>\n",
       "      <td>48.837223</td>\n",
       "      <td>49.412224</td>\n",
       "    </tr>\n",
       "  </tbody>\n",
       "</table>\n",
       "</div>"
      ],
      "text/plain": [
       "     birth   death  gender             domain                          name  \\\n",
       "6   1818.0  1894.0    Male  Discovery/Science                Joseph_Dienger   \n",
       "7   1907.0  1980.0  Female  Discovery/Science       Sylvia_Bayr-Klimpfinger   \n",
       "9   1891.0  1962.0    Male  Discovery/Science  Franz_Zimmermann_(Philologe)   \n",
       "17  1935.0  2009.0    Male  Discovery/Science           Otto_Arndt_Liebisch   \n",
       "28  1929.0  2003.0    Male  Discovery/Science                Hans_ElsÃ¤sser   \n",
       "\n",
       "    birth_longitude  death_longitude  birth_latitude  death_latitude  \n",
       "6          7.667770         8.400000       47.957283       49.016666  \n",
       "7         16.372499        16.372499       48.208332       48.208332  \n",
       "9         13.835800        12.375000       51.194901       51.340000  \n",
       "17        12.375000         9.866694       51.340000       52.499973  \n",
       "28        10.093611         8.710000       48.837223       49.412224  "
      ]
     },
     "execution_count": 34,
     "metadata": {},
     "output_type": "execute_result"
    }
   ],
   "source": [
    "# Show some data\n",
    "db.head()"
   ]
  },
  {
   "cell_type": "markdown",
   "metadata": {},
   "source": [
    "## Compute Unexpectedness"
   ]
  },
  {
   "cell_type": "markdown",
   "metadata": {},
   "source": [
    "### Description complexity"
   ]
  },
  {
   "cell_type": "code",
   "execution_count": null,
   "metadata": {},
   "outputs": [],
   "source": [
    "# Place of birth feature"
   ]
  },
  {
   "attachments": {},
   "cell_type": "markdown",
   "metadata": {},
   "source": [
    "### Causal complexity"
   ]
  },
  {
   "cell_type": "code",
   "execution_count": null,
   "metadata": {},
   "outputs": [],
   "source": []
  }
 ],
 "metadata": {
  "kernelspec": {
   "display_name": "Python 3",
   "language": "python",
   "name": "python3"
  },
  "language_info": {
   "codemirror_mode": {
    "name": "ipython",
    "version": 3
   },
   "file_extension": ".py",
   "mimetype": "text/x-python",
   "name": "python",
   "nbconvert_exporter": "python",
   "pygments_lexer": "ipython3",
   "version": "3.10.11"
  },
  "orig_nbformat": 4
 },
 "nbformat": 4,
 "nbformat_minor": 2
}
