{
 "cells": [
  {
   "attachments": {},
   "cell_type": "markdown",
   "metadata": {},
   "source": [
    "# Identifying coincidences in Tokyo Olympics 2020 Tweets\n",
    "\n",
    "***Student:*** Lais Isabelle ALVES DOS SANTOS"
   ]
  },
  {
   "attachments": {},
   "cell_type": "markdown",
   "metadata": {},
   "source": [
    "### Importing Libraries"
   ]
  },
  {
   "cell_type": "code",
   "execution_count": 267,
   "metadata": {},
   "outputs": [],
   "source": [
    "import nltk                             # Natural Language Toolkit\n",
    "import pandas as pd\n",
    "import numpy as np\n",
    "import importlib\n",
    "from IPython.display import clear_output\n",
    "import functions as F\n",
    "import concurrent.futures as cf         # Use multiple threads\n",
    "from geopy.geocoders import Nominatim   # Geolocalization\n",
    "from nltk.sentiment import SentimentIntensityAnalyzer\n",
    "\n",
    "# Initialize Nominatim API\n",
    "geolocator = Nominatim(user_agent=\"coincidences\", timeout=10)"
   ]
  },
  {
   "cell_type": "code",
   "execution_count": 257,
   "metadata": {},
   "outputs": [
    {
     "data": {
      "text/plain": [
       "<module 'functions' from 'd:\\\\Familia\\\\Lais\\\\Intercâmbio\\\\Télécom\\\\2A\\\\Creneaux D\\\\IA225\\\\mini_project\\\\ai225-mini-project-coincidences\\\\functions.py'>"
      ]
     },
     "execution_count": 257,
     "metadata": {},
     "output_type": "execute_result"
    }
   ],
   "source": [
    "# if the .py is changed, run to reload\n",
    "importlib.reload(F)"
   ]
  },
  {
   "attachments": {},
   "cell_type": "markdown",
   "metadata": {},
   "source": [
    "### Load data"
   ]
  },
  {
   "cell_type": "code",
   "execution_count": 262,
   "metadata": {},
   "outputs": [
    {
     "name": "stderr",
     "output_type": "stream",
     "text": [
      "C:\\Users\\LaisIsabelle\\AppData\\Local\\Temp\\ipykernel_14772\\2078961434.py:1: DtypeWarning: Columns (0,1,2,3,4,5,6,7,8,9,10,11,12,15) have mixed types. Specify dtype option on import or set low_memory=False.\n",
      "  tokyo_tweets_db = pd.read_csv('../tokyo_2020_tweets.csv')\n"
     ]
    },
    {
     "data": {
      "text/html": [
       "<div>\n",
       "<style scoped>\n",
       "    .dataframe tbody tr th:only-of-type {\n",
       "        vertical-align: middle;\n",
       "    }\n",
       "\n",
       "    .dataframe tbody tr th {\n",
       "        vertical-align: top;\n",
       "    }\n",
       "\n",
       "    .dataframe thead th {\n",
       "        text-align: right;\n",
       "    }\n",
       "</style>\n",
       "<table border=\"1\" class=\"dataframe\">\n",
       "  <thead>\n",
       "    <tr style=\"text-align: right;\">\n",
       "      <th></th>\n",
       "      <th>id</th>\n",
       "      <th>user_name</th>\n",
       "      <th>user_location</th>\n",
       "      <th>user_description</th>\n",
       "      <th>user_created</th>\n",
       "      <th>user_followers</th>\n",
       "      <th>user_friends</th>\n",
       "      <th>user_favourites</th>\n",
       "      <th>user_verified</th>\n",
       "      <th>date</th>\n",
       "      <th>text</th>\n",
       "      <th>hashtags</th>\n",
       "      <th>source</th>\n",
       "      <th>retweets</th>\n",
       "      <th>favorites</th>\n",
       "      <th>is_retweet</th>\n",
       "    </tr>\n",
       "  </thead>\n",
       "  <tbody>\n",
       "    <tr>\n",
       "      <th>0</th>\n",
       "      <td>1418888645105356803</td>\n",
       "      <td>Abhishek Srivastav</td>\n",
       "      <td>Udupi, India</td>\n",
       "      <td>Trying to be mediocre in many things</td>\n",
       "      <td>2021-02-01 06:33:51</td>\n",
       "      <td>45.0</td>\n",
       "      <td>39.0</td>\n",
       "      <td>293.0</td>\n",
       "      <td>False</td>\n",
       "      <td>2021-07-24 10:59:49</td>\n",
       "      <td>Let the party begin\\n#Tokyo2020</td>\n",
       "      <td>['Tokyo2020']</td>\n",
       "      <td>Twitter for Android</td>\n",
       "      <td>0.0</td>\n",
       "      <td>0.0</td>\n",
       "      <td>False</td>\n",
       "    </tr>\n",
       "    <tr>\n",
       "      <th>1</th>\n",
       "      <td>1418888377680678918</td>\n",
       "      <td>Saikhom Mirabai Channu🇮🇳</td>\n",
       "      <td>Manipur, India</td>\n",
       "      <td>Indian weightlifter 48 kg category. Champion🏆</td>\n",
       "      <td>2018-04-07 10:10:22</td>\n",
       "      <td>5235.0</td>\n",
       "      <td>5.0</td>\n",
       "      <td>2969.0</td>\n",
       "      <td>False</td>\n",
       "      <td>2021-07-24 10:58:45</td>\n",
       "      <td>Congratulations #Tokyo2020 https://t.co/8OFKMs...</td>\n",
       "      <td>['Tokyo2020']</td>\n",
       "      <td>Twitter for Android</td>\n",
       "      <td>0.0</td>\n",
       "      <td>0.0</td>\n",
       "      <td>False</td>\n",
       "    </tr>\n",
       "    <tr>\n",
       "      <th>2</th>\n",
       "      <td>1418888260886073345</td>\n",
       "      <td>Big Breaking</td>\n",
       "      <td>Global</td>\n",
       "      <td>All breaking news related to Financial Market....</td>\n",
       "      <td>2021-05-29 08:51:25</td>\n",
       "      <td>3646.0</td>\n",
       "      <td>3.0</td>\n",
       "      <td>5.0</td>\n",
       "      <td>False</td>\n",
       "      <td>2021-07-24 10:58:17</td>\n",
       "      <td>Big Breaking Now \\n\\nTokyo Olympic Update \\n\\n...</td>\n",
       "      <td>NaN</td>\n",
       "      <td>Twitter for Android</td>\n",
       "      <td>0.0</td>\n",
       "      <td>1.0</td>\n",
       "      <td>False</td>\n",
       "    </tr>\n",
       "    <tr>\n",
       "      <th>3</th>\n",
       "      <td>1418888172864299008</td>\n",
       "      <td>International Hockey Federation</td>\n",
       "      <td>Lausanne</td>\n",
       "      <td>Official International Hockey Federation Twitt...</td>\n",
       "      <td>2010-10-20 10:45:59</td>\n",
       "      <td>103975.0</td>\n",
       "      <td>2724.0</td>\n",
       "      <td>36554.0</td>\n",
       "      <td>True</td>\n",
       "      <td>2021-07-24 10:57:56</td>\n",
       "      <td>Q4: 🇬🇧3-1🇿🇦\\n\\nGreat Britain finally find a wa...</td>\n",
       "      <td>NaN</td>\n",
       "      <td>Twitter Web App</td>\n",
       "      <td>1.0</td>\n",
       "      <td>0.0</td>\n",
       "      <td>False</td>\n",
       "    </tr>\n",
       "    <tr>\n",
       "      <th>4</th>\n",
       "      <td>1418886894478270464</td>\n",
       "      <td>Cameron Hart</td>\n",
       "      <td>Australia</td>\n",
       "      <td>Football &amp; Tennis Coach</td>\n",
       "      <td>2020-10-31 08:46:17</td>\n",
       "      <td>6.0</td>\n",
       "      <td>37.0</td>\n",
       "      <td>31.0</td>\n",
       "      <td>False</td>\n",
       "      <td>2021-07-24 10:52:51</td>\n",
       "      <td>All I can think of every time I watch the ring...</td>\n",
       "      <td>['Tokyo2020', 'ArtisticGymnastics', '7Olympics...</td>\n",
       "      <td>Twitter for iPhone</td>\n",
       "      <td>0.0</td>\n",
       "      <td>0.0</td>\n",
       "      <td>False</td>\n",
       "    </tr>\n",
       "    <tr>\n",
       "      <th>5</th>\n",
       "      <td>1418885092571766792</td>\n",
       "      <td>Sab Joke H</td>\n",
       "      <td>India</td>\n",
       "      <td>Follows you</td>\n",
       "      <td>2020-09-05 19:50:35</td>\n",
       "      <td>107.0</td>\n",
       "      <td>88.0</td>\n",
       "      <td>102.0</td>\n",
       "      <td>False</td>\n",
       "      <td>2021-07-24 10:45:42</td>\n",
       "      <td>#Tokyo2020 #Olympics\\n#MirabaiChanu\\n#Weightli...</td>\n",
       "      <td>['Tokyo2020', 'Olympics', 'MirabaiChanu', 'Wei...</td>\n",
       "      <td>Twitter for Android</td>\n",
       "      <td>0.0</td>\n",
       "      <td>0.0</td>\n",
       "      <td>False</td>\n",
       "    </tr>\n",
       "  </tbody>\n",
       "</table>\n",
       "</div>"
      ],
      "text/plain": [
       "                    id                        user_name   user_location  \\\n",
       "0  1418888645105356803               Abhishek Srivastav    Udupi, India   \n",
       "1  1418888377680678918         Saikhom Mirabai Channu🇮🇳  Manipur, India   \n",
       "2  1418888260886073345                     Big Breaking          Global   \n",
       "3  1418888172864299008  International Hockey Federation        Lausanne   \n",
       "4  1418886894478270464                     Cameron Hart       Australia   \n",
       "5  1418885092571766792                       Sab Joke H           India   \n",
       "\n",
       "                                    user_description         user_created  \\\n",
       "0               Trying to be mediocre in many things  2021-02-01 06:33:51   \n",
       "1      Indian weightlifter 48 kg category. Champion🏆  2018-04-07 10:10:22   \n",
       "2  All breaking news related to Financial Market....  2021-05-29 08:51:25   \n",
       "3  Official International Hockey Federation Twitt...  2010-10-20 10:45:59   \n",
       "4                            Football & Tennis Coach  2020-10-31 08:46:17   \n",
       "5                                        Follows you  2020-09-05 19:50:35   \n",
       "\n",
       "  user_followers user_friends user_favourites user_verified  \\\n",
       "0           45.0         39.0           293.0         False   \n",
       "1         5235.0          5.0          2969.0         False   \n",
       "2         3646.0          3.0             5.0         False   \n",
       "3       103975.0       2724.0         36554.0          True   \n",
       "4            6.0         37.0            31.0         False   \n",
       "5          107.0         88.0           102.0         False   \n",
       "\n",
       "                  date                                               text  \\\n",
       "0  2021-07-24 10:59:49                    Let the party begin\\n#Tokyo2020   \n",
       "1  2021-07-24 10:58:45  Congratulations #Tokyo2020 https://t.co/8OFKMs...   \n",
       "2  2021-07-24 10:58:17  Big Breaking Now \\n\\nTokyo Olympic Update \\n\\n...   \n",
       "3  2021-07-24 10:57:56  Q4: 🇬🇧3-1🇿🇦\\n\\nGreat Britain finally find a wa...   \n",
       "4  2021-07-24 10:52:51  All I can think of every time I watch the ring...   \n",
       "5  2021-07-24 10:45:42  #Tokyo2020 #Olympics\\n#MirabaiChanu\\n#Weightli...   \n",
       "\n",
       "                                            hashtags               source  \\\n",
       "0                                      ['Tokyo2020']  Twitter for Android   \n",
       "1                                      ['Tokyo2020']  Twitter for Android   \n",
       "2                                                NaN  Twitter for Android   \n",
       "3                                                NaN      Twitter Web App   \n",
       "4  ['Tokyo2020', 'ArtisticGymnastics', '7Olympics...   Twitter for iPhone   \n",
       "5  ['Tokyo2020', 'Olympics', 'MirabaiChanu', 'Wei...  Twitter for Android   \n",
       "\n",
       "   retweets  favorites is_retweet  \n",
       "0       0.0        0.0      False  \n",
       "1       0.0        0.0      False  \n",
       "2       0.0        1.0      False  \n",
       "3       1.0        0.0      False  \n",
       "4       0.0        0.0      False  \n",
       "5       0.0        0.0      False  "
      ]
     },
     "execution_count": 262,
     "metadata": {},
     "output_type": "execute_result"
    }
   ],
   "source": [
    "tokyo_tweets_db = pd.read_csv('../tokyo_2020_tweets.csv')\n",
    "\n",
    "tokyo_tweets_db[:6] # visualize a part of the data"
   ]
  },
  {
   "attachments": {},
   "cell_type": "markdown",
   "metadata": {},
   "source": [
    "### Pre-process the data"
   ]
  },
  {
   "cell_type": "code",
   "execution_count": 263,
   "metadata": {},
   "outputs": [
    {
     "name": "stderr",
     "output_type": "stream",
     "text": [
      "[nltk_data] Downloading package stopwords to\n",
      "[nltk_data]     C:\\Users\\LaisIsabelle\\AppData\\Roaming\\nltk_data...\n",
      "[nltk_data]   Package stopwords is already up-to-date!\n",
      "[nltk_data] Downloading package vader_lexicon to\n",
      "[nltk_data]     C:\\Users\\LaisIsabelle\\AppData\\Roaming\\nltk_data...\n",
      "[nltk_data]   Package vader_lexicon is already up-to-date!\n",
      "[nltk_data] Downloading package punkt to\n",
      "[nltk_data]     C:\\Users\\LaisIsabelle\\AppData\\Roaming\\nltk_data...\n",
      "[nltk_data]   Package punkt is already up-to-date!\n"
     ]
    },
    {
     "data": {
      "text/plain": [
       "True"
      ]
     },
     "execution_count": 263,
     "metadata": {},
     "output_type": "execute_result"
    }
   ],
   "source": [
    "# Download important packages from nltk\n",
    "nltk.download([\"stopwords\", \"vader_lexicon\", \"punkt\"])"
   ]
  },
  {
   "cell_type": "code",
   "execution_count": 171,
   "metadata": {},
   "outputs": [],
   "source": [
    "# get texts and locations and removes the ones that contains nan\n",
    "texts, locations = zip(*[(t,l) for t,l in zip(tokyo_tweets_db[\"text\"], tokyo_tweets_db[\"user_location\"]) if str(t) != 'nan' and str(l) != 'nan'])"
   ]
  },
  {
   "cell_type": "code",
   "execution_count": 143,
   "metadata": {},
   "outputs": [],
   "source": [
    "# exclude word \"of\", \"a\", \"the\" and similar to avoid negative effect\n",
    "stopwords = nltk.corpus.stopwords.words(\"english\")      "
   ]
  },
  {
   "cell_type": "code",
   "execution_count": 210,
   "metadata": {},
   "outputs": [],
   "source": [
    "sia = SentimentIntensityAnalyzer()\n",
    "sscores = [sia.polarity_scores(F.pipeline(text, stopwords)) for text in texts]     # get sentiment scores for each text"
   ]
  },
  {
   "cell_type": "code",
   "execution_count": 250,
   "metadata": {},
   "outputs": [
    {
     "name": "stdout",
     "output_type": "stream",
     "text": [
      "Text: #Tokyo2020  #Olympics  #bbcnews #skynews #gbnews failure to stop the illegal invasion from France is destroying the conservative government\n",
      "Negative score:\t0.614\n",
      "Neutral Score:\t0.386\n",
      "Positive Score:\t0.0\n",
      "Compound:\t-0.9136\n"
     ]
    }
   ],
   "source": [
    "# Display some result\n",
    "id_text = 1110\n",
    "ss = sscores[id_text]\n",
    "\n",
    "print('Text: {}\\nNegative score:\\t{}\\nNeutral Score:\\t{}\\nPositive Score:\\t{}\\nCompound:\\t{}'.format(texts[id_text], ss['neg'], ss['neu'], ss['pos'], ss['compound']))"
   ]
  },
  {
   "cell_type": "code",
   "execution_count": 259,
   "metadata": {},
   "outputs": [],
   "source": [
    "# Computes a sentiment for each tweet\n",
    "sentiment_analysis = [F.set_sentiment(sscores[i]['compound']) for i in range(len(sscores))]"
   ]
  },
  {
   "cell_type": "code",
   "execution_count": 277,
   "metadata": {},
   "outputs": [],
   "source": [
    "# Separate the texts and location according to sentiment\n",
    "neutral_texts = [text for i, text in enumerate(texts) if sentiment_analysis[i] == 'neu']\n",
    "neutral_locations = [location for i, location in enumerate(locations) if sentiment_analysis[i] == 'neu']\n",
    "\n",
    "negative_texts = [text for i, text in enumerate(texts) if sentiment_analysis[i] == 'neg']\n",
    "negative_locations = [location for i, location in enumerate(locations) if sentiment_analysis[i] == 'neg']\n",
    "\n",
    "positive_texts = [text for i, text in enumerate(texts) if sentiment_analysis[i] == 'pos']\n",
    "positive_locations = [location for i, location in enumerate(locations) if sentiment_analysis[i] == 'pos']"
   ]
  },
  {
   "attachments": {},
   "cell_type": "markdown",
   "metadata": {},
   "source": [
    "### Explore coincidences"
   ]
  },
  {
   "attachments": {},
   "cell_type": "markdown",
   "metadata": {},
   "source": [
    "#### Description complexity\n",
    "\n",
    "Description complexity refers to the amount of information or detail required to fully describe or represent a system, object, or phenomenon. It is a measure of the complexity of the structure or organization of the system being described. In the context of information theory, description complexity is often quantified using metrics such as algorithmic complexity or Kolmogorov complexity, which aim to capture the shortest possible description of a system.\n",
    "\n",
    "In this case, the *neutral*, *positive* and *negative* tweets are considered and the distance between the places where one dispose of the same sentiment have the description complexity calculated."
   ]
  },
  {
   "cell_type": "code",
   "execution_count": 278,
   "metadata": {},
   "outputs": [],
   "source": [
    "# Returns geolocations to get latitude and longitude coordinates\n",
    "def geo_location_calculator(location):\n",
    "    return geolocator.geocode(location)\n",
    "\n",
    "# parallelize the filling\n",
    "#with cf.ThreadPoolExecutor() as exe:\n",
    "#    geo_locations = list(exe.map(geo_location_calculator, locations))"
   ]
  },
  {
   "attachments": {},
   "cell_type": "markdown",
   "metadata": {},
   "source": [
    "#### Causal complexity"
   ]
  },
  {
   "cell_type": "code",
   "execution_count": null,
   "metadata": {},
   "outputs": [],
   "source": []
  },
  {
   "attachments": {},
   "cell_type": "markdown",
   "metadata": {},
   "source": [
    "#### Unexpecteness calculation"
   ]
  },
  {
   "cell_type": "code",
   "execution_count": null,
   "metadata": {},
   "outputs": [],
   "source": []
  }
 ],
 "metadata": {
  "kernelspec": {
   "display_name": "Python 3",
   "language": "python",
   "name": "python3"
  },
  "language_info": {
   "codemirror_mode": {
    "name": "ipython",
    "version": 3
   },
   "file_extension": ".py",
   "mimetype": "text/x-python",
   "name": "python",
   "nbconvert_exporter": "python",
   "pygments_lexer": "ipython3",
   "version": "3.10.11"
  },
  "orig_nbformat": 4
 },
 "nbformat": 4,
 "nbformat_minor": 2
}
